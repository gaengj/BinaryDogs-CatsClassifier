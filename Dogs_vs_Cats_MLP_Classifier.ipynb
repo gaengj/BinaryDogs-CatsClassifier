{
 "cells": [
  {
   "cell_type": "code",
   "execution_count": 31,
   "metadata": {
    "collapsed": true
   },
   "outputs": [],
   "source": [
    "# Dogs vs Cats - Methode Perceptron Multicouche\n",
    "# Author : Naoto Lucas\n",
    "\n",
    "from sklearn.neural_network import MLPClassifier\n",
    "\n",
    "import os, cv2, random\n",
    "import numpy as np\n",
    "import seaborn as sns\n",
    "import matplotlib.pyplot as plt\n",
    "%matplotlib inline \n",
    "import pandas as pd"
   ]
  },
  {
   "cell_type": "code",
   "execution_count": 32,
   "metadata": {
    "scrolled": true
   },
   "outputs": [
    {
     "name": "stdout",
     "output_type": "stream",
     "text": [
      "Processed 0 of 24777\n",
      "Processed 250 of 24777\n",
      "Processed 500 of 24777\n",
      "Processed 750 of 24777\n",
      "Processed 1000 of 24777\n",
      "Processed 1250 of 24777\n",
      "Processed 1500 of 24777\n",
      "Processed 1750 of 24777\n",
      "Processed 2000 of 24777\n",
      "Processed 2250 of 24777\n",
      "Processed 2500 of 24777\n",
      "Processed 2750 of 24777\n",
      "Processed 3000 of 24777\n",
      "Processed 3250 of 24777\n",
      "Processed 3500 of 24777\n",
      "Processed 3750 of 24777\n",
      "Processed 4000 of 24777\n",
      "Processed 4250 of 24777\n",
      "Processed 4500 of 24777\n",
      "Processed 4750 of 24777\n",
      "Processed 5000 of 24777\n",
      "Processed 5250 of 24777\n",
      "Processed 5500 of 24777\n",
      "Processed 5750 of 24777\n",
      "Processed 6000 of 24777\n",
      "Processed 6250 of 24777\n",
      "Processed 6500 of 24777\n",
      "Processed 6750 of 24777\n",
      "Processed 7000 of 24777\n",
      "Processed 7250 of 24777\n",
      "Processed 7500 of 24777\n",
      "Processed 7750 of 24777\n",
      "Processed 8000 of 24777\n",
      "Processed 8250 of 24777\n",
      "Processed 8500 of 24777\n",
      "Processed 8750 of 24777\n",
      "Processed 9000 of 24777\n",
      "Processed 9250 of 24777\n",
      "Processed 9500 of 24777\n",
      "Processed 9750 of 24777\n",
      "Processed 10000 of 24777\n",
      "Processed 10250 of 24777\n",
      "Processed 10500 of 24777\n",
      "Processed 10750 of 24777\n",
      "Processed 11000 of 24777\n",
      "Processed 11250 of 24777\n",
      "Processed 11500 of 24777\n",
      "Processed 11750 of 24777\n",
      "Processed 12000 of 24777\n",
      "Processed 12250 of 24777\n",
      "Processed 12500 of 24777\n",
      "Processed 12750 of 24777\n",
      "Processed 13000 of 24777\n",
      "Processed 13250 of 24777\n",
      "Processed 13500 of 24777\n",
      "Processed 13750 of 24777\n",
      "Processed 14000 of 24777\n",
      "Processed 14250 of 24777\n",
      "Processed 14500 of 24777\n",
      "Processed 14750 of 24777\n",
      "Processed 15000 of 24777\n",
      "Processed 15250 of 24777\n",
      "Processed 15500 of 24777\n",
      "Processed 15750 of 24777\n",
      "Processed 16000 of 24777\n",
      "Processed 16250 of 24777\n",
      "Processed 16500 of 24777\n",
      "Processed 16750 of 24777\n",
      "Processed 17000 of 24777\n",
      "Processed 17250 of 24777\n",
      "Processed 17500 of 24777\n",
      "Processed 17750 of 24777\n",
      "Processed 18000 of 24777\n",
      "Processed 18250 of 24777\n",
      "Processed 18500 of 24777\n",
      "Processed 18750 of 24777\n",
      "Processed 19000 of 24777\n",
      "Processed 19250 of 24777\n",
      "Processed 19500 of 24777\n",
      "Processed 19750 of 24777\n",
      "Processed 20000 of 24777\n",
      "Processed 20250 of 24777\n",
      "Processed 20500 of 24777\n",
      "Processed 20750 of 24777\n",
      "Processed 21000 of 24777\n",
      "Processed 21250 of 24777\n",
      "Processed 21500 of 24777\n",
      "Processed 21750 of 24777\n",
      "Processed 22000 of 24777\n",
      "Processed 22250 of 24777\n",
      "Processed 22500 of 24777\n",
      "Processed 22750 of 24777\n",
      "Processed 23000 of 24777\n",
      "Processed 23250 of 24777\n",
      "Processed 23500 of 24777\n",
      "Processed 23750 of 24777\n",
      "Processed 24000 of 24777\n",
      "Processed 24250 of 24777\n",
      "Processed 24500 of 24777\n",
      "Processed 24750 of 24777\n",
      "Processed 0 of 12500\n",
      "Processed 250 of 12500\n",
      "Processed 500 of 12500\n",
      "Processed 750 of 12500\n",
      "Processed 1000 of 12500\n",
      "Processed 1250 of 12500\n",
      "Processed 1500 of 12500\n",
      "Processed 1750 of 12500\n",
      "Processed 2000 of 12500\n",
      "Processed 2250 of 12500\n",
      "Processed 2500 of 12500\n",
      "Processed 2750 of 12500\n",
      "Processed 3000 of 12500\n",
      "Processed 3250 of 12500\n",
      "Processed 3500 of 12500\n",
      "Processed 3750 of 12500\n",
      "Processed 4000 of 12500\n",
      "Processed 4250 of 12500\n",
      "Processed 4500 of 12500\n",
      "Processed 4750 of 12500\n",
      "Processed 5000 of 12500\n",
      "Processed 5250 of 12500\n",
      "Processed 5500 of 12500\n",
      "Processed 5750 of 12500\n",
      "Processed 6000 of 12500\n",
      "Processed 6250 of 12500\n",
      "Processed 6500 of 12500\n",
      "Processed 6750 of 12500\n",
      "Processed 7000 of 12500\n",
      "Processed 7250 of 12500\n",
      "Processed 7500 of 12500\n",
      "Processed 7750 of 12500\n",
      "Processed 8000 of 12500\n",
      "Processed 8250 of 12500\n",
      "Processed 8500 of 12500\n",
      "Processed 8750 of 12500\n",
      "Processed 9000 of 12500\n",
      "Processed 9250 of 12500\n",
      "Processed 9500 of 12500\n",
      "Processed 9750 of 12500\n",
      "Processed 10000 of 12500\n",
      "Processed 10250 of 12500\n",
      "Processed 10500 of 12500\n",
      "Processed 10750 of 12500\n",
      "Processed 11000 of 12500\n",
      "Processed 11250 of 12500\n",
      "Processed 11500 of 12500\n",
      "Processed 11750 of 12500\n",
      "Processed 12000 of 12500\n",
      "Processed 12250 of 12500\n",
      "Train shape: (24777, 4096)\n",
      "Test shape: (12500, 4096)\n"
     ]
    }
   ],
   "source": [
    "TRAIN_DIR = 'train/'\n",
    "TEST_DIR = 'test/'\n",
    "\n",
    "ROWS = 64\n",
    "COLS = 64\n",
    "CHANNELS = 3\n",
    "\n",
    "train_images = [TRAIN_DIR+i for i in os.listdir(TRAIN_DIR)] # use this for full dataset\n",
    "train_dogs =   [TRAIN_DIR+i for i in os.listdir(TRAIN_DIR) if 'dog' in i]\n",
    "train_cats =   [TRAIN_DIR+i for i in os.listdir(TRAIN_DIR) if 'cat' in i]\n",
    "\n",
    "test_images =  [TEST_DIR+i for i in os.listdir(TEST_DIR)]\n",
    "\n",
    "\n",
    "# slice datasets for memory efficiency on Kaggle Kernels, delete if using full dataset\n",
    "#train_images = train_dogs[:1000] + train_cats[:1000]\n",
    "#random.shuffle(train_images)\n",
    "#test_images =  test_images[:25]\n",
    "\n",
    "def read_image(file_path):\n",
    "    img = cv2.imread(file_path, cv2.IMREAD_GRAYSCALE) #cv2.IMREAD_GRAYSCALE\n",
    "    return cv2.resize(img, (ROWS, COLS), interpolation=cv2.INTER_CUBIC)\n",
    "\n",
    "\n",
    "def prep_data(images):\n",
    "    count = len(images)\n",
    "    data = np.ndarray((count, CHANNELS, ROWS, COLS), dtype=np.uint8)\n",
    "    #data = np.ndarray((count, ROWS*COLS))\n",
    "    \n",
    "    for i, image_file in enumerate(images):\n",
    "        image = read_image(image_file)\n",
    "        data[i] = image.T\n",
    "        #data[i] = np.squeeze(np.asarray(image.T.flatten()))\n",
    "        if i%250 == 0: print('Processed {} of {}'.format(i, count))\n",
    "    \n",
    "    return data\n",
    "\n",
    "def prep_data2(images):\n",
    "    count = len(images)\n",
    "    #data = np.ndarray((count, CHANNELS, ROWS, COLS), dtype=np.uint8)\n",
    "    data = np.ndarray((count, ROWS*COLS))\n",
    "    \n",
    "    for i, image_file in enumerate(images):\n",
    "        image = read_image(image_file)\n",
    "        #data[i] = image.T\n",
    "        data[i] = np.squeeze(np.asarray(image.T.flatten()))\n",
    "        if i%250 == 0: print('Processed {} of {}'.format(i, count))\n",
    "    \n",
    "    return data\n",
    "\n",
    "train = prep_data2(train_images)\n",
    "test = prep_data2(test_images)\n",
    "\n",
    "print(\"Train shape: {}\".format(train.shape))\n",
    "print(\"Test shape: {}\".format(test.shape))"
   ]
  },
  {
   "cell_type": "code",
   "execution_count": 33,
   "metadata": {},
   "outputs": [
    {
     "data": {
      "text/plain": [
       "<matplotlib.axes._subplots.AxesSubplot at 0x7efe6578e470>"
      ]
     },
     "execution_count": 33,
     "metadata": {},
     "output_type": "execute_result"
    },
    {
     "data": {
      "image/png": "[encoded data removed]",
      "text/plain": [
       "<matplotlib.figure.Figure at 0x7efe65791e80>"
      ]
     },
     "metadata": {},
     "output_type": "display_data"
    }
   ],
   "source": [
    "labels = []\n",
    "for i in train_images:\n",
    "    if 'dog' in i:\n",
    "        labels.append(1)\n",
    "    else:\n",
    "        labels.append(0)\n",
    "\n",
    "sns.countplot(labels)\n",
    "#sns.plt.title('Cats and Dogs')"
   ]
  },
  {
   "cell_type": "code",
   "execution_count": 34,
   "metadata": {},
   "outputs": [
    {
     "data": {
      "text/plain": [
       "MLPClassifier(activation='relu', alpha=0.0001, batch_size='auto', beta_1=0.9,\n",
       "       beta_2=0.999, early_stopping=False, epsilon=1e-08,\n",
       "       hidden_layer_sizes=(100,), learning_rate='constant',\n",
       "       learning_rate_init=0.001, max_iter=200, momentum=0.9,\n",
       "       nesterovs_momentum=True, power_t=0.5, random_state=None,\n",
       "       shuffle=True, solver='adam', tol=0.0001, validation_fraction=0.1,\n",
       "       verbose=False, warm_start=False)"
      ]
     },
     "execution_count": 34,
     "metadata": {},
     "output_type": "execute_result"
    }
   ],
   "source": [
    "model = MLPClassifier()\n",
    "model.fit(train, labels) "
   ]
  },
  {
   "cell_type": "code",
   "execution_count": 48,
   "metadata": {},
   "outputs": [
    {
     "name": "stdout",
     "output_type": "stream",
     "text": [
      "12500\n"
     ]
    }
   ],
   "source": [
    "predictions = model.predict(test)\n",
    "print(len(predictions))"
   ]
  },
  {
   "cell_type": "code",
   "execution_count": 59,
   "metadata": {},
   "outputs": [
    {
     "name": "stdout",
     "output_type": "stream",
     "text": [
      "25000\n"
     ]
    }
   ],
   "source": [
    "predictions = model.predict_proba(test)\n",
    "print(len(predictions.flatten()))\n"
   ]
  },
  {
   "cell_type": "code",
   "execution_count": 39,
   "metadata": {},
   "outputs": [
    {
     "name": "stdout",
     "output_type": "stream",
     "text": [
      "0.578157161884\n"
     ]
    }
   ],
   "source": [
    "score = model.score(train, labels)\n",
    "print(score)"
   ]
  },
  {
   "cell_type": "code",
   "execution_count": 41,
   "metadata": {
    "scrolled": true
   },
   "outputs": [
    {
     "name": "stdout",
     "output_type": "stream",
     "text": [
      "Processed 0 of 12500\n",
      "Processed 250 of 12500\n",
      "Processed 500 of 12500\n",
      "Processed 750 of 12500\n",
      "Processed 1000 of 12500\n",
      "Processed 1250 of 12500\n",
      "Processed 1500 of 12500\n",
      "Processed 1750 of 12500\n",
      "Processed 2000 of 12500\n",
      "Processed 2250 of 12500\n",
      "Processed 2500 of 12500\n",
      "Processed 2750 of 12500\n",
      "Processed 3000 of 12500\n",
      "Processed 3250 of 12500\n",
      "Processed 3500 of 12500\n",
      "Processed 3750 of 12500\n",
      "Processed 4000 of 12500\n",
      "Processed 4250 of 12500\n",
      "Processed 4500 of 12500\n",
      "Processed 4750 of 12500\n",
      "Processed 5000 of 12500\n",
      "Processed 5250 of 12500\n",
      "Processed 5500 of 12500\n",
      "Processed 5750 of 12500\n",
      "Processed 6000 of 12500\n",
      "Processed 6250 of 12500\n",
      "Processed 6500 of 12500\n",
      "Processed 6750 of 12500\n",
      "Processed 7000 of 12500\n",
      "Processed 7250 of 12500\n",
      "Processed 7500 of 12500\n",
      "Processed 7750 of 12500\n",
      "Processed 8000 of 12500\n",
      "Processed 8250 of 12500\n",
      "Processed 8500 of 12500\n",
      "Processed 8750 of 12500\n",
      "Processed 9000 of 12500\n",
      "Processed 9250 of 12500\n",
      "Processed 9500 of 12500\n",
      "Processed 9750 of 12500\n",
      "Processed 10000 of 12500\n",
      "Processed 10250 of 12500\n",
      "Processed 10500 of 12500\n",
      "Processed 10750 of 12500\n",
      "Processed 11000 of 12500\n",
      "Processed 11250 of 12500\n",
      "Processed 11500 of 12500\n",
      "Processed 11750 of 12500\n",
      "Processed 12000 of 12500\n",
      "Processed 12250 of 12500\n"
     ]
    },
    {
     "ename": "ValueError",
     "evalue": "The truth value of an array with more than one element is ambiguous. Use a.any() or a.all()",
     "output_type": "error",
     "traceback": [
      "\u001b[0;31m---------------------------------------------------------------------------\u001b[0m",
      "\u001b[0;31mValueError\u001b[0m                                Traceback (most recent call last)",
      "\u001b[0;32m<ipython-input-41-f72a66374dd1>\u001b[0m in \u001b[0;36m<module>\u001b[0;34m()\u001b[0m\n\u001b[1;32m      3\u001b[0m \u001b[0;34m\u001b[0m\u001b[0m\n\u001b[1;32m      4\u001b[0m \u001b[0;32mfor\u001b[0m \u001b[0mi\u001b[0m \u001b[0;32min\u001b[0m \u001b[0mrange\u001b[0m\u001b[0;34m(\u001b[0m\u001b[0;36m0\u001b[0m\u001b[0;34m,\u001b[0m\u001b[0;36m10\u001b[0m\u001b[0;34m)\u001b[0m\u001b[0;34m:\u001b[0m\u001b[0;34m\u001b[0m\u001b[0m\n\u001b[0;32m----> 5\u001b[0;31m     \u001b[0;32mif\u001b[0m \u001b[0mpredictions\u001b[0m\u001b[0;34m[\u001b[0m\u001b[0mi\u001b[0m\u001b[0;34m]\u001b[0m \u001b[0;34m>=\u001b[0m \u001b[0;36m0.5\u001b[0m\u001b[0;34m:\u001b[0m\u001b[0;34m\u001b[0m\u001b[0m\n\u001b[0m\u001b[1;32m      6\u001b[0m         \u001b[0mprint\u001b[0m\u001b[0;34m(\u001b[0m\u001b[0;34m'I am {:.2%} sure this is a Dog'\u001b[0m\u001b[0;34m.\u001b[0m\u001b[0mformat\u001b[0m\u001b[0;34m(\u001b[0m\u001b[0mpredictions\u001b[0m\u001b[0;34m[\u001b[0m\u001b[0mi\u001b[0m\u001b[0;34m]\u001b[0m\u001b[0;34m)\u001b[0m\u001b[0;34m)\u001b[0m\u001b[0;34m\u001b[0m\u001b[0m\n\u001b[1;32m      7\u001b[0m     \u001b[0;32melse\u001b[0m\u001b[0;34m:\u001b[0m\u001b[0;34m\u001b[0m\u001b[0m\n",
      "\u001b[0;31mValueError\u001b[0m: The truth value of an array with more than one element is ambiguous. Use a.any() or a.all()"
     ]
    }
   ],
   "source": [
    "\n",
    "testImage = prep_data(test_images)\n",
    "\n",
    "for i in range(0,10):\n",
    "    if predictions[i] >= 0.5: \n",
    "        print('I am {:.2%} sure this is a Dog'.format(predictions[i]))\n",
    "    else: \n",
    "        print('I am {:.2%} sure this is a Cat'.format(1-predictions[i]))\n",
    "        \n",
    "    plt.imshow(testImage[i].T)\n",
    "    plt.show()"
   ]
  },
  {
   "cell_type": "code",
   "execution_count": 65,
   "metadata": {},
   "outputs": [],
   "source": [
    "#Submission File\n",
    "p = predictions.flatten()\n",
    "p = [p[2*i+1] for i in range (12500)]\n",
    "submission = pd.DataFrame({\n",
    "        \"id\": [i for i in range (1,12501)] ,\n",
    "        \"label\": p\n",
    "    })\n",
    "\n",
    "submission.to_csv('submission.csv', index=False)"
   ]
  }
 ],
 "metadata": {
  "kernelspec": {
   "display_name": "Python 3",
   "language": "python",
   "name": "python3"
  },
  "language_info": {
   "codemirror_mode": {
    "name": "ipython",
    "version": 3
   },
   "file_extension": ".py",
   "mimetype": "text/x-python",
   "name": "python",
   "nbconvert_exporter": "python",
   "pygments_lexer": "ipython3",
   "version": "3.6.3"
  }
 },
 "nbformat": 4,
 "nbformat_minor": 2
}
